{
 "cells": [
  {
   "cell_type": "markdown",
   "id": "b791021c-24bd-4be4-9186-d95cb2ead16d",
   "metadata": {},
   "source": [
    "# Data Science Tools and Ecosystem"
   ]
  },
  {
   "cell_type": "markdown",
   "id": "df3f0919-5c51-43da-a2c5-a00ca69de190",
   "metadata": {},
   "source": [
    "### 이 노트북에서는 데이터 과학 도구와 생태계가 요약되어 있습니다."
   ]
  },
  {
   "cell_type": "markdown",
   "id": "c787e8a5-7a65-459c-88ad-f45984b9727a",
   "metadata": {},
   "source": [
    "**Objectives:**\n",
    "- 데이터 과학자가 사용하는 인기 있는 언어\n",
    "- 데이터 과학자가 사용하는 일반적인 라이브러리\n",
    "- Python에서의 산술 표현식"
   ]
  },
  {
   "cell_type": "markdown",
   "id": "b6ac9ac4-19a7-4512-b94c-580e439a0148",
   "metadata": {},
   "source": [
    "### 데이터 과학자가 사용하는 인기 있는 언어는 다음과 같습니다:"
   ]
  },
  {
   "cell_type": "markdown",
   "id": "dd293d2b-c7da-491c-9f78-f057417f3591",
   "metadata": {},
   "source": [
    "1. python\n",
    "2. R\n",
    "3. Java"
   ]
  },
  {
   "cell_type": "markdown",
   "id": "69df8867-3817-4ed1-aead-bf9d4fc2e277",
   "metadata": {},
   "source": [
    "### 데이터 과학자가 사용하는 일반적인 라이브러리는 다음과 같습니다:"
   ]
  },
  {
   "cell_type": "markdown",
   "id": "2dd52408-c9b8-4cc1-887a-ed35e04f00c7",
   "metadata": {},
   "source": [
    "1. Pandas\n",
    "2. Numby\n",
    "3. TensorFlow"
   ]
  },
  {
   "cell_type": "markdown",
   "id": "e78feb9f-99a8-4070-8cfb-a2833b53dc30",
   "metadata": {},
   "source": [
    "|Data Science Tools|\n",
    "|-------------------|\n",
    "|VSCode|\n",
    "|GitLab|\n",
    "|PostHog|"
   ]
  },
  {
   "cell_type": "markdown",
   "id": "ba0797f7-5b2d-49a3-9444-d7f4515bd03c",
   "metadata": {},
   "source": [
    "### 아래는 Python에서 산술 표현식을 평가하는 몇 가지 예입니다."
   ]
  },
  {
   "cell_type": "markdown",
   "id": "cf3fa086-d4f6-47d5-9691-9b2531ff8176",
   "metadata": {},
   "source": [
    "정수를 곱한 후 더하는 간단한 산술 표현식입니다."
   ]
  },
  {
   "cell_type": "code",
   "execution_count": 11,
   "id": "157cb3f9-e355-4f14-ae10-dd2d3be98dce",
   "metadata": {},
   "outputs": [
    {
     "data": {
      "text/plain": [
       "17"
      ]
     },
     "execution_count": 11,
     "metadata": {},
     "output_type": "execute_result"
    }
   ],
   "source": [
    "(3*4)+5"
   ]
  },
  {
   "cell_type": "markdown",
   "id": "e5ac0606-5d1c-425d-ac39-9c3f180c05b8",
   "metadata": {},
   "source": [
    "이것은 200분을 60으로 나누어 시간으로 변환합니다."
   ]
  },
  {
   "cell_type": "code",
   "execution_count": 16,
   "id": "54151a5c-0b81-40c4-8087-5c2b4d4d9d3e",
   "metadata": {},
   "outputs": [
    {
     "data": {
      "text/plain": [
       "3.3333333333333335"
      ]
     },
     "execution_count": 16,
     "metadata": {},
     "output_type": "execute_result"
    }
   ],
   "source": [
    "200/60"
   ]
  },
  {
   "cell_type": "markdown",
   "id": "5bf481d2-0d9f-4713-a8b9-fbc861cf5c52",
   "metadata": {},
   "source": [
    "## 저자\n",
    "홍지우"
   ]
  },
  {
   "cell_type": "code",
   "execution_count": null,
   "id": "c4b92a4a-c691-430b-94bc-36b6a99902e4",
   "metadata": {},
   "outputs": [],
   "source": []
  }
 ],
 "metadata": {
  "kernelspec": {
   "display_name": "Python [conda env:base] *",
   "language": "python",
   "name": "conda-base-py"
  },
  "language_info": {
   "codemirror_mode": {
    "name": "ipython",
    "version": 3
   },
   "file_extension": ".py",
   "mimetype": "text/x-python",
   "name": "python",
   "nbconvert_exporter": "python",
   "pygments_lexer": "ipython3",
   "version": "3.12.7"
  }
 },
 "nbformat": 4,
 "nbformat_minor": 5
